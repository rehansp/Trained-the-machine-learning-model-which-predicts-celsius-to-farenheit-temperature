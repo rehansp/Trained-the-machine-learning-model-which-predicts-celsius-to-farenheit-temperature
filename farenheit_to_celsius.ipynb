{
  "nbformat": 4,
  "nbformat_minor": 0,
  "metadata": {
    "colab": {
      "name": "farenheit_to_celsius",
      "provenance": []
    },
    "kernelspec": {
      "name": "python3",
      "display_name": "Python 3"
    }
  },
  "cells": [
    {
      "cell_type": "code",
      "metadata": {
        "id": "mbXraioO-8di",
        "colab_type": "code",
        "colab": {}
      },
      "source": [
        "import tensorflow as tf\n",
        " "
      ],
      "execution_count": 2,
      "outputs": []
    },
    {
      "cell_type": "code",
      "metadata": {
        "id": "70untNU3KyV3",
        "colab_type": "code",
        "colab": {}
      },
      "source": [
        "import numpy as np\n",
        "import logging\n",
        "logger = tf.get_logger()\n",
        "logger.setLevel(logging.ERROR)"
      ],
      "execution_count": 4,
      "outputs": []
    },
    {
      "cell_type": "markdown",
      "metadata": {
        "id": "sEMdF7AwOEcs",
        "colab_type": "text"
      },
      "source": [
        "Setup Training Data\n"
      ]
    },
    {
      "cell_type": "code",
      "metadata": {
        "id": "oGlqHJSfOY_L",
        "colab_type": "code",
        "colab": {
          "base_uri": "https://localhost:8080/",
          "height": 1717
        },
        "outputId": "fd962487-350b-43af-b5f8-8f9825c48284"
      },
      "source": [
        "celsius_q = np.array([0, 1, 2, 3, 4, 5, 6, 7, 8, 9, 10, 11, 12, 13, 14, 15, 16, 17, 18, 19, 20, 21, 22, 23, 24, 25, 26, 27, 28, 29, 30, 31, 32, 33, 34, 35, 36, 37, 38, 39, 40, 41, 42, 43, 44, 45, 46, 47, 48, 49, 50, 51, 52, 53, 54, 55, 56, 57, 58, 59, 60, 61, 62, 63, 64, 65, 66, 67, 68, 69, 70, 71, 72, 73, 74, 75, 76, 77, 78, 79, 80, 81, 82, 83, 84, 85, 86, 87, 88, 89, 90, 91, 92, 93, 94, 95, 96, 97, 98, 99], dtype = float)\n",
        "fahrenheit_a = np.array([32, 33.8, 35.6, 37.4, 39.2, 41, 42.8, 44.6, 46.4, 48.2, 50, 51.8, 53.6, 55.4, 57.2, 59, 60.8, 62.6, 64.4, 66.2, 68, 69.8, 71.6, 73.4, 75.2, 77, 78.8, 80.6, 82.4, 84.2, 86, 87.8, 89.6, 91.4, 93.2, 95, 96.8, 98.6, 100.4, 102.2, 104, 105.8, 107.6, 109.4, 111.2, 113, 114.8, 116.6, 118.4, 120.2, 122, 123.8, 125.6, 127.4, 129.2, 131, 132.8, 134.6, 136.4, 138.2, 140, 141.8, 143.6, 145.4, 147.2, 149, 150.8, 152.6, 154.4, 156.2, 158, 159.8, 161.6, 163.4, 165.2, 167, 168.8, 170.6, 172.4, 174.2, 176, 177.8, 179.6, 181.4, 183.2, 185, 186.8, 188.6, 190.4, 192.2, 194, 195.8, 197.6, 199.4, 201.2, 203, 204.8, 206.6, 208.4, 210.2], dtype = float)\n",
        "\n",
        "for i,c in enumerate(celsius_q):\n",
        "  print(\"{} degrees Celsius = {} degrees Fahrenheit\".format(c, fahrenheit_a[i]))"
      ],
      "execution_count": 8,
      "outputs": [
        {
          "output_type": "stream",
          "text": [
            "0.0 degrees Celsius = 32.0 degrees Fahrenheit\n",
            "1.0 degrees Celsius = 33.8 degrees Fahrenheit\n",
            "2.0 degrees Celsius = 35.6 degrees Fahrenheit\n",
            "3.0 degrees Celsius = 37.4 degrees Fahrenheit\n",
            "4.0 degrees Celsius = 39.2 degrees Fahrenheit\n",
            "5.0 degrees Celsius = 41.0 degrees Fahrenheit\n",
            "6.0 degrees Celsius = 42.8 degrees Fahrenheit\n",
            "7.0 degrees Celsius = 44.6 degrees Fahrenheit\n",
            "8.0 degrees Celsius = 46.4 degrees Fahrenheit\n",
            "9.0 degrees Celsius = 48.2 degrees Fahrenheit\n",
            "10.0 degrees Celsius = 50.0 degrees Fahrenheit\n",
            "11.0 degrees Celsius = 51.8 degrees Fahrenheit\n",
            "12.0 degrees Celsius = 53.6 degrees Fahrenheit\n",
            "13.0 degrees Celsius = 55.4 degrees Fahrenheit\n",
            "14.0 degrees Celsius = 57.2 degrees Fahrenheit\n",
            "15.0 degrees Celsius = 59.0 degrees Fahrenheit\n",
            "16.0 degrees Celsius = 60.8 degrees Fahrenheit\n",
            "17.0 degrees Celsius = 62.6 degrees Fahrenheit\n",
            "18.0 degrees Celsius = 64.4 degrees Fahrenheit\n",
            "19.0 degrees Celsius = 66.2 degrees Fahrenheit\n",
            "20.0 degrees Celsius = 68.0 degrees Fahrenheit\n",
            "21.0 degrees Celsius = 69.8 degrees Fahrenheit\n",
            "22.0 degrees Celsius = 71.6 degrees Fahrenheit\n",
            "23.0 degrees Celsius = 73.4 degrees Fahrenheit\n",
            "24.0 degrees Celsius = 75.2 degrees Fahrenheit\n",
            "25.0 degrees Celsius = 77.0 degrees Fahrenheit\n",
            "26.0 degrees Celsius = 78.8 degrees Fahrenheit\n",
            "27.0 degrees Celsius = 80.6 degrees Fahrenheit\n",
            "28.0 degrees Celsius = 82.4 degrees Fahrenheit\n",
            "29.0 degrees Celsius = 84.2 degrees Fahrenheit\n",
            "30.0 degrees Celsius = 86.0 degrees Fahrenheit\n",
            "31.0 degrees Celsius = 87.8 degrees Fahrenheit\n",
            "32.0 degrees Celsius = 89.6 degrees Fahrenheit\n",
            "33.0 degrees Celsius = 91.4 degrees Fahrenheit\n",
            "34.0 degrees Celsius = 93.2 degrees Fahrenheit\n",
            "35.0 degrees Celsius = 95.0 degrees Fahrenheit\n",
            "36.0 degrees Celsius = 96.8 degrees Fahrenheit\n",
            "37.0 degrees Celsius = 98.6 degrees Fahrenheit\n",
            "38.0 degrees Celsius = 100.4 degrees Fahrenheit\n",
            "39.0 degrees Celsius = 102.2 degrees Fahrenheit\n",
            "40.0 degrees Celsius = 104.0 degrees Fahrenheit\n",
            "41.0 degrees Celsius = 105.8 degrees Fahrenheit\n",
            "42.0 degrees Celsius = 107.6 degrees Fahrenheit\n",
            "43.0 degrees Celsius = 109.4 degrees Fahrenheit\n",
            "44.0 degrees Celsius = 111.2 degrees Fahrenheit\n",
            "45.0 degrees Celsius = 113.0 degrees Fahrenheit\n",
            "46.0 degrees Celsius = 114.8 degrees Fahrenheit\n",
            "47.0 degrees Celsius = 116.6 degrees Fahrenheit\n",
            "48.0 degrees Celsius = 118.4 degrees Fahrenheit\n",
            "49.0 degrees Celsius = 120.2 degrees Fahrenheit\n",
            "50.0 degrees Celsius = 122.0 degrees Fahrenheit\n",
            "51.0 degrees Celsius = 123.8 degrees Fahrenheit\n",
            "52.0 degrees Celsius = 125.6 degrees Fahrenheit\n",
            "53.0 degrees Celsius = 127.4 degrees Fahrenheit\n",
            "54.0 degrees Celsius = 129.2 degrees Fahrenheit\n",
            "55.0 degrees Celsius = 131.0 degrees Fahrenheit\n",
            "56.0 degrees Celsius = 132.8 degrees Fahrenheit\n",
            "57.0 degrees Celsius = 134.6 degrees Fahrenheit\n",
            "58.0 degrees Celsius = 136.4 degrees Fahrenheit\n",
            "59.0 degrees Celsius = 138.2 degrees Fahrenheit\n",
            "60.0 degrees Celsius = 140.0 degrees Fahrenheit\n",
            "61.0 degrees Celsius = 141.8 degrees Fahrenheit\n",
            "62.0 degrees Celsius = 143.6 degrees Fahrenheit\n",
            "63.0 degrees Celsius = 145.4 degrees Fahrenheit\n",
            "64.0 degrees Celsius = 147.2 degrees Fahrenheit\n",
            "65.0 degrees Celsius = 149.0 degrees Fahrenheit\n",
            "66.0 degrees Celsius = 150.8 degrees Fahrenheit\n",
            "67.0 degrees Celsius = 152.6 degrees Fahrenheit\n",
            "68.0 degrees Celsius = 154.4 degrees Fahrenheit\n",
            "69.0 degrees Celsius = 156.2 degrees Fahrenheit\n",
            "70.0 degrees Celsius = 158.0 degrees Fahrenheit\n",
            "71.0 degrees Celsius = 159.8 degrees Fahrenheit\n",
            "72.0 degrees Celsius = 161.6 degrees Fahrenheit\n",
            "73.0 degrees Celsius = 163.4 degrees Fahrenheit\n",
            "74.0 degrees Celsius = 165.2 degrees Fahrenheit\n",
            "75.0 degrees Celsius = 167.0 degrees Fahrenheit\n",
            "76.0 degrees Celsius = 168.8 degrees Fahrenheit\n",
            "77.0 degrees Celsius = 170.6 degrees Fahrenheit\n",
            "78.0 degrees Celsius = 172.4 degrees Fahrenheit\n",
            "79.0 degrees Celsius = 174.2 degrees Fahrenheit\n",
            "80.0 degrees Celsius = 176.0 degrees Fahrenheit\n",
            "81.0 degrees Celsius = 177.8 degrees Fahrenheit\n",
            "82.0 degrees Celsius = 179.6 degrees Fahrenheit\n",
            "83.0 degrees Celsius = 181.4 degrees Fahrenheit\n",
            "84.0 degrees Celsius = 183.2 degrees Fahrenheit\n",
            "85.0 degrees Celsius = 185.0 degrees Fahrenheit\n",
            "86.0 degrees Celsius = 186.8 degrees Fahrenheit\n",
            "87.0 degrees Celsius = 188.6 degrees Fahrenheit\n",
            "88.0 degrees Celsius = 190.4 degrees Fahrenheit\n",
            "89.0 degrees Celsius = 192.2 degrees Fahrenheit\n",
            "90.0 degrees Celsius = 194.0 degrees Fahrenheit\n",
            "91.0 degrees Celsius = 195.8 degrees Fahrenheit\n",
            "92.0 degrees Celsius = 197.6 degrees Fahrenheit\n",
            "93.0 degrees Celsius = 199.4 degrees Fahrenheit\n",
            "94.0 degrees Celsius = 201.2 degrees Fahrenheit\n",
            "95.0 degrees Celsius = 203.0 degrees Fahrenheit\n",
            "96.0 degrees Celsius = 204.8 degrees Fahrenheit\n",
            "97.0 degrees Celsius = 206.6 degrees Fahrenheit\n",
            "98.0 degrees Celsius = 208.4 degrees Fahrenheit\n",
            "99.0 degrees Celsius = 210.2 degrees Fahrenheit\n"
          ],
          "name": "stdout"
        }
      ]
    },
    {
      "cell_type": "markdown",
      "metadata": {
        "id": "sMxZnV39afFq",
        "colab_type": "text"
      },
      "source": [
        "Create the model\n",
        "\n",
        "Build the layer\n",
        "\n"
      ]
    },
    {
      "cell_type": "code",
      "metadata": {
        "id": "2c-Zx-goajye",
        "colab_type": "code",
        "colab": {}
      },
      "source": [
        "l0 = tf.keras.layers.Dense(units = 1, input_shape = [1])"
      ],
      "execution_count": 10,
      "outputs": []
    },
    {
      "cell_type": "markdown",
      "metadata": {
        "id": "MrMj1Zm2dsjA",
        "colab_type": "text"
      },
      "source": [
        "Assemble the layers into models\n",
        "\n"
      ]
    },
    {
      "cell_type": "code",
      "metadata": {
        "id": "Po5XmjPwePrt",
        "colab_type": "code",
        "colab": {}
      },
      "source": [
        "model = tf.keras.Sequential([l0])"
      ],
      "execution_count": 11,
      "outputs": []
    },
    {
      "cell_type": "markdown",
      "metadata": {
        "id": "87FrZUy9ghRd",
        "colab_type": "text"
      },
      "source": [
        "Compiling the model\n",
        "\n",
        "Loss function — A way of measuring how far off predictions are from the desired outcome\n",
        "\n",
        "Optimizer function — A way of adjusting internal values in order to reduce the loss.\n"
      ]
    },
    {
      "cell_type": "code",
      "metadata": {
        "id": "zO9KfcR3g0t4",
        "colab_type": "code",
        "colab": {}
      },
      "source": [
        "model.compile(loss='mean_squared_error',\n",
        "              optimizer=tf.keras.optimizers.Adam(0.1))"
      ],
      "execution_count": 13,
      "outputs": []
    },
    {
      "cell_type": "markdown",
      "metadata": {
        "id": "-1G5qVfPiT1d",
        "colab_type": "text"
      },
      "source": [
        "**Train the model**\n",
        "\n",
        "Train the model by calling the fit method.\n",
        "During training, the model takes in Celsius values, performs a calculation using the current internal variables (called \"weights\")\n",
        "\n",
        "The difference between the actual output and the desired output is calculated using the loss function\n",
        "optimizer function directs how the weights should be adjusted.\n",
        "\n",
        "This cycle of calculate, compare, adjust is controlled by the fit method.\n",
        "\n",
        "The epochs argument specifies how many times this cycle should be run,\n",
        "the verbose argument controls how much output the method produces."
      ]
    },
    {
      "cell_type": "code",
      "metadata": {
        "id": "l7GgM41zkQao",
        "colab_type": "code",
        "colab": {
          "base_uri": "https://localhost:8080/",
          "height": 34
        },
        "outputId": "e23c473a-036c-4365-e28d-b6dbc4cad2d7"
      },
      "source": [
        "history = model.fit(celsius_q, fahrenheit_a, epochs=500, verbose=False)\n",
        "print(\"Finished training the model\")"
      ],
      "execution_count": 14,
      "outputs": [
        {
          "output_type": "stream",
          "text": [
            "Finished training the model\n"
          ],
          "name": "stdout"
        }
      ]
    },
    {
      "cell_type": "markdown",
      "metadata": {
        "id": "choXcT2okrz4",
        "colab_type": "text"
      },
      "source": [
        "**Display The training Statistics**\n",
        "\n",
        "The fit method returns a history object.\n",
        "\n",
        "We can use this object to plot how the loss of our model goes down after each training epoch.\n",
        "\n",
        "A high loss means that the Fahrenheit degrees the model predicts is far from the corresponding value in fahrenheit_a."
      ]
    },
    {
      "cell_type": "code",
      "metadata": {
        "id": "GVTEkgnbmrZ9",
        "colab_type": "code",
        "colab": {
          "base_uri": "https://localhost:8080/",
          "height": 296
        },
        "outputId": "28b4e545-f5ff-437c-9d10-a7d3b11b60d3"
      },
      "source": [
        "import matplotlib.pyplot as plt\n",
        "plt.xlabel('Epoch Number')\n",
        "plt.ylabel(\"Loss Magnitude\")\n",
        "plt.plot(history.history['loss'])"
      ],
      "execution_count": 15,
      "outputs": [
        {
          "output_type": "execute_result",
          "data": {
            "text/plain": [
              "[<matplotlib.lines.Line2D at 0x7ff5b2bde908>]"
            ]
          },
          "metadata": {
            "tags": []
          },
          "execution_count": 15
        },
        {
          "output_type": "display_data",
          "data": {
            "image/png": "[encoded data removed]",
            "text/plain": [
              "<Figure size 432x288 with 1 Axes>"
            ]
          },
          "metadata": {
            "tags": [],
            "needs_background": "light"
          }
        }
      ]
    },
    {
      "cell_type": "markdown",
      "metadata": {
        "id": "9yViE7YFoZfD",
        "colab_type": "text"
      },
      "source": [
        "**Use The Model To Predict The Values.**"
      ]
    },
    {
      "cell_type": "code",
      "metadata": {
        "id": "1D7WWInxov8R",
        "colab_type": "code",
        "colab": {
          "base_uri": "https://localhost:8080/",
          "height": 34
        },
        "outputId": "b264a6dc-ebf9-4422-e02d-cb872cfb2352"
      },
      "source": [
        "print(model.predict([100.00]))"
      ],
      "execution_count": 16,
      "outputs": [
        {
          "output_type": "stream",
          "text": [
            "[[212.67905]]\n"
          ],
          "name": "stdout"
        }
      ]
    },
    {
      "cell_type": "code",
      "metadata": {
        "id": "VHc-c6nRpUe8",
        "colab_type": "code",
        "colab": {
          "base_uri": "https://localhost:8080/",
          "height": 34
        },
        "outputId": "c24da64e-e22c-46cc-f37b-13cff7c8c006"
      },
      "source": [
        "print(model.predict([125.00]))"
      ],
      "execution_count": null,
      "outputs": [
        {
          "output_type": "stream",
          "text": [
            "[[258.15924]]\n"
          ],
          "name": "stdout"
        }
      ]
    },
    {
      "cell_type": "markdown",
      "metadata": {
        "id": "9DIplnYsqZTd",
        "colab_type": "text"
      },
      "source": [
        "**Looking At The layer weigths**\n"
      ]
    },
    {
      "cell_type": "code",
      "metadata": {
        "id": "MFL3FCGfr-tS",
        "colab_type": "code",
        "colab": {
          "base_uri": "https://localhost:8080/",
          "height": 34
        },
        "outputId": "bb380c1f-8735-4d15-e5fb-b61a094b3164"
      },
      "source": [
        "print(\"These are the layer variables: {}\".format(l0.get_weights()))"
      ],
      "execution_count": 18,
      "outputs": [
        {
          "output_type": "stream",
          "text": [
            "These are the layer variables: [array([[1.8192072]], dtype=float32), array([30.758339], dtype=float32)]\n"
          ],
          "name": "stdout"
        }
      ]
    },
    {
      "cell_type": "markdown",
      "metadata": {
        "id": "gIUKz5MjtICT",
        "colab_type": "text"
      },
      "source": [
        "# **The first variable is close to ~1.8 and the second to ~32. These values (1.8 and 32) are the actual variables in the real conversion formula.**"
      ]
    },
    {
      "cell_type": "markdown",
      "metadata": {
        "id": "UVtZG_CbtUlp",
        "colab_type": "text"
      },
      "source": [
        "**A little experiment**\n",
        "\n",
        "Just for fun, what if i created more Dense layers with different units, which therefore also has more variables?"
      ]
    },
    {
      "cell_type": "code",
      "metadata": {
        "id": "Oj80MpqeuEmQ",
        "colab_type": "code",
        "colab": {
          "base_uri": "https://localhost:8080/",
          "height": 289
        },
        "outputId": "3a14265a-a8cc-4777-a14d-db024319edea"
      },
      "source": [
        "l0 = tf.keras.layers.Dense(units=4, input_shape=[1])\n",
        "l1 = tf.keras.layers.Dense(units=4)\n",
        "l2 = tf.keras.layers.Dense(units=1)\n",
        "model = tf.keras.Sequential([l0, l1, l2])\n",
        "model.compile(loss='mean_squared_error', optimizer=tf.keras.optimizers.Adam(0.1))\n",
        "model.fit(celsius_q, fahrenheit_a, epochs=500, verbose=False)\n",
        "print(\"Finished training the model\")\n",
        "print(model.predict([100.00]))\n",
        "print(model.predict([125.00]))\n",
        "print(\"Model predicts that 100 degrees Celsius is: {} degrees Fahrenheit\".format(model.predict([100.00])))\n",
        "print(\"Model predicts that 125 degrees Celsius is: {} degrees Fahrenheit\".format(model.predict([125.00])))\n",
        "print(\"These are the l0 variables: {}\".format(l0.get_weights()))\n",
        "print(\"These are the l1 variables: {}\".format(l1.get_weights()))\n",
        "print(\"These are the l2 variables: {}\".format(l2.get_weights()))"
      ],
      "execution_count": 30,
      "outputs": [
        {
          "output_type": "stream",
          "text": [
            "Finished training the model\n",
            "[[213.97246]]\n",
            "[[259.44998]]\n",
            "Model predicts that 100 degrees Celsius is: [[213.97246]] degrees Fahrenheit\n",
            "Model predicts that 125 degrees Celsius is: [[259.44998]] degrees Fahrenheit\n",
            "These are the l0 variables: [array([[ 0.49207115, -0.04482879,  0.6998499 , -0.3372444 ]],\n",
            "      dtype=float32), array([ 5.1723776,  1.4523617,  4.214589 , -4.9613576], dtype=float32)]\n",
            "These are the l1 variables: [array([[-0.8500079 , -0.12417729, -0.43513677,  0.82973254],\n",
            "       [-0.91534257,  0.56252676,  0.0964595 , -0.49240997],\n",
            "       [-0.5180328 , -0.399587  ,  1.0542041 , -0.39910814],\n",
            "       [ 0.34242097,  0.88315433,  0.45066458,  0.42489153]],\n",
            "      dtype=float32), array([-4.4136767, -4.1182656,  2.6692178,  1.1236953], dtype=float32)]\n",
            "These are the l2 variables: [array([[-1.1022352 ],\n",
            "       [-1.1085539 ],\n",
            "       [ 0.3800897 ],\n",
            "       [ 0.11713625]], dtype=float32), array([4.3533754], dtype=float32)]\n"
          ],
          "name": "stdout"
        }
      ]
    }
  ]
}